{
  "nbformat": 4,
  "nbformat_minor": 0,
  "metadata": {
    "colab": {
      "provenance": []
    },
    "kernelspec": {
      "name": "python3",
      "display_name": "Python 3"
    },
    "language_info": {
      "name": "python"
    }
  },
  "cells": [
    {
      "cell_type": "markdown",
      "source": [
        "# Name : Rubaiyat Karim\n",
        "ID: 2215151022\n",
        "Section : 7A1\n",
        "\n",
        "Tasks:\n",
        "\n",
        "\n",
        "\n",
        "*   Run the code twice\n",
        "*   With a fixed seed (np.random.seed(10)) to ensure reproducibility.\n",
        "*   Without setting a seed, allowing random values to change each time.\n",
        "*   Observe and explain the differences in outputs.\n",
        "\n",
        "\n",
        "\n"
      ],
      "metadata": {
        "id": "d74IvK0tpzQk"
      }
    },
    {
      "cell_type": "code",
      "execution_count": 1,
      "metadata": {
        "id": "gc8F5tpnpbRF"
      },
      "outputs": [],
      "source": [
        "import numpy as np"
      ]
    },
    {
      "cell_type": "code",
      "source": [
        "np.random.seed(10)\n",
        "matrix_with_seed = np.random.randint(1, 51, (3, 3))\n",
        "print(\"Matrix with fixed seed:\")\n",
        "print(matrix_with_seed)\n",
        "\n",
        "matrix_without_seed = np.random.randint(1, 51, (3, 3))\n",
        "print(\"\\nMatrix without fixed seed:\")\n",
        "print(matrix_without_seed)"
      ],
      "metadata": {
        "colab": {
          "base_uri": "https://localhost:8080/"
        },
        "id": "yQDTBDtIqAh_",
        "outputId": "7b14e619-4508-40ca-bb79-d349207ce16d"
      },
      "execution_count": 2,
      "outputs": [
        {
          "output_type": "stream",
          "name": "stdout",
          "text": [
            "Matrix with fixed seed:\n",
            "[[10 37 16]\n",
            " [ 1 50 29]\n",
            " [26 30 49]]\n",
            "\n",
            "Matrix without fixed seed:\n",
            "[[30 50  9]\n",
            " [10  1 43]\n",
            " [41 37 17]]\n"
          ]
        }
      ]
    },
    {
      "cell_type": "markdown",
      "source": [
        "*   With a Fixed Seed : Setting a fixed seed ensures that the random numbers remain identical every time the code is executed. This is useful when running the code multiple times but needing the matrix to stay the same.\n",
        "\n",
        "*   Without a Seed : If no seed is set, the code will generate a different matrix with new random values each time it runs.\n",
        "\n"
      ],
      "metadata": {
        "id": "jptSmrjpQjfH"
      }
    }
  ]
}